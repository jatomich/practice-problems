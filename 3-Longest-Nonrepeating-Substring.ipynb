{
 "cells": [
  {
   "cell_type": "markdown",
   "metadata": {},
   "source": [
    "# Leetcode Problem #3:\n",
    "# LONGEST SUBSTRING WITHOUT REPEATING CHARACTERS"
   ]
  },
  {
   "cell_type": "markdown",
   "metadata": {},
   "source": [
    "## Description:\n",
    "### Given a string s, find the length of the longest\n",
    "### substring without repeating characters."
   ]
  },
  {
   "cell_type": "markdown",
   "metadata": {},
   "source": [
    "# EXAMPLES and EDGE CASES"
   ]
  },
  {
   "cell_type": "markdown",
   "metadata": {},
   "source": [
    "## Example 1:\n",
    "### Input: 'abcabcbb'\n",
    "### Output: 3\n",
    "### Explanation: Correct answer is 3 because longest nonrepeating substring is 'abc'"
   ]
  },
  {
   "cell_type": "markdown",
   "metadata": {},
   "source": [
    "<img src=\"img/Leetcode 3 - Nonrepeating Substring.png\" alt=\"Handwritten solution\" style=\"size: 50%;\"/>"
   ]
  },
  {
   "cell_type": "markdown",
   "metadata": {},
   "source": [
    "<img src=\"img/Leetcode 3 - Sliding Window.png\" />"
   ]
  },
  {
   "cell_type": "markdown",
   "metadata": {},
   "source": [
    "## Example 2:\n",
    "### Input: 'bbbbb'\n",
    "### Output: 1\n",
    "### Explanation: Correct answer is 1 because longest nonrepeating substring is 'b'"
   ]
  },
  {
   "cell_type": "markdown",
   "metadata": {},
   "source": [
    "## Example 3:\n",
    "### Input: 'pwwkew'\n",
    "### Output: 3\n",
    "### Explanation: Correct answer is 3 because longest nonrepeating substring is 'wke'"
   ]
  },
  {
   "cell_type": "code",
   "execution_count": 1,
   "metadata": {},
   "outputs": [],
   "source": [
    "def longestSubstring(s: str) -> int:\n",
    "    \"\"\"\n",
    "    Finds the length of the longest substring without repeating characters.\n",
    "\n",
    "    Args:\n",
    "        s (str): The input string.\n",
    "\n",
    "    Returns:\n",
    "        int: The length of the longest non-repeating substring.\n",
    "    \"\"\"\n",
    "    if len(s) == 0:\n",
    "        return 0\n",
    "    if len(s) == 1:\n",
    "        return 1\n",
    "    max_len = 1\n",
    "    for i in range(len(s)):\n",
    "        for j in range(i + 1, len(s)):\n",
    "            if s[j] in s[i:j]:\n",
    "                break\n",
    "            else:\n",
    "                max_len = max(max_len, j - i + 1)\n",
    "    return max_len"
   ]
  },
  {
   "cell_type": "code",
   "execution_count": 2,
   "metadata": {},
   "outputs": [
    {
     "data": {
      "text/plain": [
       "3"
      ]
     },
     "execution_count": 2,
     "metadata": {},
     "output_type": "execute_result"
    }
   ],
   "source": [
    "longestSubstring(\"abcabcbb\")"
   ]
  },
  {
   "cell_type": "markdown",
   "metadata": {},
   "source": [
    "# TESTS PASS\n",
    "# SOLUTION ACCEPTED"
   ]
  },
  {
   "cell_type": "markdown",
   "metadata": {},
   "source": []
  }
 ],
 "metadata": {
  "kernelspec": {
   "display_name": ".venv",
   "language": "python",
   "name": "python3"
  },
  "language_info": {
   "codemirror_mode": {
    "name": "ipython",
    "version": 3
   },
   "file_extension": ".py",
   "mimetype": "text/x-python",
   "name": "python",
   "nbconvert_exporter": "python",
   "pygments_lexer": "ipython3",
   "version": "3.12.1"
  }
 },
 "nbformat": 4,
 "nbformat_minor": 2
}
