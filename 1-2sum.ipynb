{
 "cells": [
  {
   "cell_type": "markdown",
   "metadata": {},
   "source": [
    "# Leetcode Problem #1:\n",
    "# 2sum"
   ]
  },
  {
   "cell_type": "markdown",
   "metadata": {},
   "source": [
    "### Given an array of integers nums and an integer target, return indices of the two numbers such that they add up to target. You may assume that each input would have exactly one solution, and you may not use the same element twice.\n",
    "\n",
    "### You can return the answer in any order."
   ]
  },
  {
   "cell_type": "markdown",
   "metadata": {},
   "source": [
    "# EXAMPLES and EDGE CASES"
   ]
  },
  {
   "cell_type": "markdown",
   "metadata": {},
   "source": [
    "## Example 1:\n",
    "### Input: nums = [2,7,11,15], target = 9\n",
    "### Output: [0,1]\n",
    "### Explanation: Because nums[0] + nums[1] == 9, we return [0, 1]."
   ]
  },
  {
   "cell_type": "markdown",
   "metadata": {},
   "source": [
    "## Example 2:\n",
    "### Input: nums = [3,2,4], target = 6\n",
    "### Output: [1,2]"
   ]
  },
  {
   "cell_type": "markdown",
   "metadata": {},
   "source": [
    "# Solution:\n",
    "### First sort the list, grouping all like elements together so they can be more easily passed over as duplicates.\n",
    "### Iterate through the list, at each stop checking the rest of the list for (target - element)\n",
    "### When two elements adding up to the target are located, we record both indices in a list and return the list"
   ]
  },
  {
   "cell_type": "code",
   "execution_count": 59,
   "metadata": {},
   "outputs": [],
   "source": [
    "nums = [3, 2, 4]\n",
    "target = 6"
   ]
  },
  {
   "cell_type": "code",
   "execution_count": 53,
   "metadata": {},
   "outputs": [],
   "source": [
    "def twoSum(nums: list, target: int):\n",
    "    comps = {}\n",
    "    for i, e in enumerate(nums):\n",
    "        if (comp := (target - e)) in comps:\n",
    "            return [i, comps[comp]]\n",
    "        comps[e] = i"
   ]
  },
  {
   "cell_type": "markdown",
   "metadata": {},
   "source": [
    "# Test Solution"
   ]
  },
  {
   "cell_type": "code",
   "execution_count": 54,
   "metadata": {},
   "outputs": [
    {
     "data": {
      "text/plain": [
       "[2, 1]"
      ]
     },
     "execution_count": 54,
     "metadata": {},
     "output_type": "execute_result"
    }
   ],
   "source": [
    "twoSum(nums=nums, target=target)"
   ]
  },
  {
   "cell_type": "code",
   "execution_count": 55,
   "metadata": {},
   "outputs": [
    {
     "name": "stdout",
     "output_type": "stream",
     "text": [
      "[3, 2, 4]\n",
      "6\n"
     ]
    }
   ],
   "source": [
    "print(nums)\n",
    "print(target)"
   ]
  },
  {
   "cell_type": "markdown",
   "metadata": {},
   "source": [
    "# ALL TESTS PASS\n",
    "# SOLUTION ACCEPTED"
   ]
  },
  {
   "cell_type": "markdown",
   "metadata": {},
   "source": [
    "# ALTERNATE SOLUTIONS"
   ]
  },
  {
   "cell_type": "markdown",
   "metadata": {},
   "source": [
    "## Method\n",
    "### * Record the initial positions of each list element in a dictionary so that each element is the key to its own initial index\n",
    "### * Sort the list\n",
    "### * Initialize two pointers, one at the beginning of the list and the other at the end.\n",
    "### * Until the two pointers meet, iteratively sum the elements under each\n",
    "### * Compare each sum to the target and either return current indices or update pointers\n",
    "### * If sum is larger than target, move right pointer to the left.  Skip all duplicates.\n",
    "### * If sum is smaller than target, move left pointer to the right while, again, passing over any duplicates."
   ]
  },
  {
   "cell_type": "code",
   "execution_count": 56,
   "metadata": {},
   "outputs": [],
   "source": [
    "def sortedTwoSum(nums: list, target: int) -> list:\n",
    "    idx_dict = {e: i for i, e in enumerate(nums)}\n",
    "    nums.sort()\n",
    "\n",
    "    l = 0\n",
    "    r = len(nums) - 1\n",
    "\n",
    "    while l != r:\n",
    "        curr_sum = nums[l] + nums[r]\n",
    "        if curr_sum == target:\n",
    "            return [idx_dict[nums[l]], idx_dict[nums[r]]]\n",
    "        if curr_sum > target:\n",
    "            r -= 1\n",
    "            # Skip duplicates.\n",
    "            while nums[r] == nums[r + 1]:\n",
    "                r -= 1\n",
    "            continue\n",
    "        l += 1\n",
    "        # Skip duplicates.\n",
    "        while nums[l] == nums[l - 1]:\n",
    "            l += 1\n"
   ]
  },
  {
   "cell_type": "code",
   "execution_count": 57,
   "metadata": {},
   "outputs": [
    {
     "data": {
      "text/plain": [
       "[1, 2]"
      ]
     },
     "execution_count": 57,
     "metadata": {},
     "output_type": "execute_result"
    }
   ],
   "source": [
    "sortedTwoSum(nums=nums, target=target)"
   ]
  },
  {
   "cell_type": "markdown",
   "metadata": {},
   "source": [
    "### Above solution is acceptable, but overly complex for the problem; overhead and runtime are both high."
   ]
  },
  {
   "cell_type": "markdown",
   "metadata": {},
   "source": [
    "## Optimized Solution\n",
    "### Create temp copy of original list.\n",
    "### Iterate over the temp copy, rewriting the original list as a dictionary with its elements as keys and lists of the elements' positions as values.\n",
    "### Convert the keys of the dictionary to a sorted list.\n",
    "### Convert the sorted list to a set to do away with duplicates, decreasing iteration time.\n",
    "### Convert the set back to a list to regain access to list operations.\n",
    "### Iterate over the new, potentially shortened, list; on each iteration calculate the complement to the current element: complement = target - current_element.\n",
    "### If the complement is found in the dictionary, return a list with values from the dictionary corresponding to the proper keys; i.e. the current element and its complement."
   ]
  },
  {
   "cell_type": "code",
   "execution_count": 60,
   "metadata": {},
   "outputs": [],
   "source": [
    "def optimizedTwoSum(nums: list, target: int) -> list:\n",
    "    tmp = nums\n",
    "    nums = {}\n",
    "    for i, t in enumerate(tmp):\n",
    "        if t not in nums:\n",
    "            nums[t] = [i]\n",
    "        nums[t].append(i)\n",
    "\n",
    "    for num in list(set(sorted(list(nums.keys())))):\n",
    "        if (comp := (target - num)) in nums:\n",
    "            return [nums[num][0], nums[comp][0]] if num != comp else [nums[num][0], nums[num][1]]"
   ]
  },
  {
   "cell_type": "markdown",
   "metadata": {},
   "source": [
    "### Test Solution"
   ]
  },
  {
   "cell_type": "code",
   "execution_count": 61,
   "metadata": {},
   "outputs": [
    {
     "data": {
      "text/plain": [
       "[1, 2]"
      ]
     },
     "execution_count": 61,
     "metadata": {},
     "output_type": "execute_result"
    }
   ],
   "source": [
    "optimizedTwoSum(nums=nums, target=target)"
   ]
  },
  {
   "cell_type": "code",
   "execution_count": null,
   "metadata": {},
   "outputs": [],
   "source": []
  }
 ],
 "metadata": {
  "kernelspec": {
   "display_name": ".venv",
   "language": "python",
   "name": "python3"
  },
  "language_info": {
   "codemirror_mode": {
    "name": "ipython",
    "version": 3
   },
   "file_extension": ".py",
   "mimetype": "text/x-python",
   "name": "python",
   "nbconvert_exporter": "python",
   "pygments_lexer": "ipython3",
   "version": "3.12.1"
  }
 },
 "nbformat": 4,
 "nbformat_minor": 2
}
